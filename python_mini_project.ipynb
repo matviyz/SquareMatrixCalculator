{
  "nbformat": 4,
  "nbformat_minor": 0,
  "metadata": {
    "colab": {
      "name": "python mini project",
      "provenance": [],
      "collapsed_sections": []
    },
    "kernelspec": {
      "name": "python3",
      "display_name": "Python 3"
    },
    "language_info": {
      "name": "python"
    }
  },
  "cells": [
    {
      "cell_type": "markdown",
      "source": [
        "**Square Matrix Calculator**"
      ],
      "metadata": {
        "id": "N1nVFO5WOAfD"
      }
    },
    {
      "cell_type": "code",
      "execution_count": 46,
      "metadata": {
        "colab": {
          "base_uri": "https://localhost:8080/",
          "height": 833
        },
        "id": "qnuE0gOMN9Zr",
        "outputId": "abfa707c-6d7f-4dd9-dade-3b53b4ca017e"
      },
      "outputs": [
        {
          "output_type": "stream",
          "name": "stdout",
          "text": [
            "Enter how many rows/columns are in the square matrix:2\n",
            "Enter the entries of the matrix.\n",
            "1\n",
            "2\n",
            "3\n",
            "4\n",
            "Here is your matrix:\n",
            "[[1 2]\n",
            " [3 4]]\n"
          ]
        },
        {
          "output_type": "display_data",
          "data": {
            "image/png": "[encoded data removed]",
            "text/plain": [
              "<Figure size 432x288 with 2 Axes>"
            ]
          },
          "metadata": {
            "needs_background": "light"
          }
        },
        {
          "output_type": "stream",
          "name": "stdout",
          "text": [
            "Enter what you would like to do with the matrix:\n",
            "A) Transpose\n",
            "B) Determinant\n",
            "C) Inverse\n",
            "D) Eigenvalues\n",
            "D\n",
            "The eigenvalues are [-0.37228132  5.37228132]\n",
            "The eigenvectors are [[-0.82456484 -0.41597356]\n",
            " [ 0.56576746 -0.90937671]]\n"
          ]
        },
        {
          "output_type": "display_data",
          "data": {
            "image/png": "[encoded data removed]",
            "text/plain": [
              "<Figure size 432x288 with 2 Axes>"
            ]
          },
          "metadata": {
            "needs_background": "light"
          }
        }
      ],
      "source": [
        "import numpy as np\n",
        "import matplotlib.pyplot as plt\n",
        "\n",
        "# inputing matrix\n",
        "def omat(n):  \n",
        "  print(\"Enter the entries of the matrix.\")\n",
        "  for i in range(n):\n",
        "    inp = []\n",
        "    for j in range(n):\n",
        "      inp.append(int(input()))\n",
        "    omatrix.append(inp)\n",
        "  print(\"Here is your matrix:\")\n",
        "  print(np.matrix(omatrix))\n",
        "  plt.imshow(omatrix)\n",
        "  plt.colorbar()\n",
        "  plt.show()\n",
        "\n",
        "#transpose\n",
        "def tpose(): \n",
        "  tmatrix = np.transpose(omatrix)\n",
        "  print(\"Here is your matrix transposed: \\n{}\".format(np.matrix(tmatrix)))\n",
        "  plt.imshow(tmatrix)\n",
        "  plt.colorbar()\n",
        "  plt.show()\n",
        "\n",
        "#determinant\n",
        "def detm():\n",
        "  det = round(np.linalg.det(omatrix), ndigits=4)\n",
        "  print(\"The determinant is: {}\".format(det))\n",
        "\n",
        "#inverse\n",
        "def invm():\n",
        "  if (detm != 0):\n",
        "    imatrix = np.linalg.inv(omatrix)\n",
        "    print(\"The inverse of your matrix is: {}\".format(np.matrix(imatrix)))\n",
        "    plt.imshow(imatrix)\n",
        "    plt.colorbar()\n",
        "    plt.show()\n",
        "  else:\n",
        "    print(\"The matrix is uninvertible\")\n",
        "\n",
        "#eigenvalues\n",
        "def ev():\n",
        "  va,ve = np.linalg.eig(omatrix)\n",
        "  print('The eigenvalues are {}'.format(va))\n",
        "  print('The eigenvectors are {}'.format(ve))\n",
        "  plt.imshow(ve)\n",
        "  plt.colorbar()\n",
        "  plt.show()\n",
        "\n",
        "#usecase\n",
        "def usecase():\n",
        "  print(\"Enter what you would like to do with the matrix:\")\n",
        "  #print(\"A) Transpose\\nB) Determinant\\nC) Inverse\\nD) Eigenvalues\\n\")\n",
        "  uc = str(input(\"A) Transpose\\nB) Determinant\\nC) Inverse\\nD) Eigenvalues\\n\"))\n",
        "  if (uc == 'a') or (uc == 'A'):\n",
        "    tpose()\n",
        "  elif (uc == 'b') or (uc == 'B'):\n",
        "    detm()\n",
        "  elif (uc == 'c') or (uc == 'C'):\n",
        "    invm()\n",
        "  elif (uc == 'd') or (uc == 'D'):\n",
        "    ev()\n",
        "  else:\n",
        "    print(\"Invalid option\")\n",
        "\n",
        "# initializing matrix\n",
        "size = int(input(\"Enter how many rows/columns are in the square matrix:\"))\n",
        "omatrix = []\n",
        "omat(size)\n",
        "usecase()"
      ]
    }
  ]
}